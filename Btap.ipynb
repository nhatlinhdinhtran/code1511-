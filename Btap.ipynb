{
  "nbformat": 4,
  "nbformat_minor": 0,
  "metadata": {
    "colab": {
      "name": "Btap.ipynb",
      "provenance": [],
      "collapsed_sections": [],
      "authorship_tag": "ABX9TyPKciZpibwspa9Ehn/Rf3eI",
      "include_colab_link": true
    },
    "kernelspec": {
      "name": "python3",
      "display_name": "Python 3"
    },
    "language_info": {
      "name": "python"
    }
  },
  "cells": [
    {
      "cell_type": "markdown",
      "metadata": {
        "id": "view-in-github",
        "colab_type": "text"
      },
      "source": [
        "<a href=\"https://colab.research.google.com/github/nhatlinhdinhtran/code1511-/blob/main/Btap.ipynb\" target=\"_parent\"><img src=\"https://colab.research.google.com/assets/colab-badge.svg\" alt=\"Open In Colab\"/></a>"
      ]
    },
    {
      "cell_type": "code",
      "metadata": {
        "colab": {
          "base_uri": "https://localhost:8080/"
        },
        "id": "vNNwSXdxSjNJ",
        "outputId": "7f51db49-b66a-40a9-94fa-a8e78414fb77"
      },
      "source": [
        "#1\n",
        "a=[]\n",
        "for i in range(10,200):\n",
        "    if(i%7==0) and (i%5!=0):\n",
        "        a.append(str(i))\n",
        "print(','.join(a))"
      ],
      "execution_count": 1,
      "outputs": [
        {
          "output_type": "stream",
          "name": "stdout",
          "text": [
            "14,21,28,42,49,56,63,77,84,91,98,112,119,126,133,147,154,161,168,182,189,196\n"
          ]
        }
      ]
    },
    {
      "cell_type": "code",
      "metadata": {
        "colab": {
          "base_uri": "https://localhost:8080/"
        },
        "id": "I4giMGU8S8yg",
        "outputId": "a6955984-9fc0-45b5-db00-3df99a502de0"
      },
      "source": [
        "#2\n",
        "n = int(input(\"Nhập số cần tính giai thừa: \"))\n",
        " \n",
        "def giaiThua(n):\n",
        "    if n == 0:\n",
        "        return 1\n",
        "    return n * giaiThua(n - 1)\n",
        " \n",
        "print (giaiThua(n))\n",
        "\n"
      ],
      "execution_count": 4,
      "outputs": [
        {
          "output_type": "stream",
          "name": "stdout",
          "text": [
            "Nhập số cần tính giai thừa: 8\n",
            "40320\n"
          ]
        }
      ]
    },
    {
      "cell_type": "code",
      "metadata": {
        "id": "ULmsUrcWTjVz"
      },
      "source": [
        "#3\n",
        "import math\n",
        " \n",
        "def isPrimeNumber(n):\n",
        "    if (n < 2):\n",
        "        return False;\n",
        " \n",
        "    squareRoot = int(math.sqrt(n));\n",
        "    for i in range(2, squareRoot + 1):\n",
        "        if (n % i == 0):\n",
        "            return False;\n",
        "    return True;\n",
        " \n",
        "n = int(input(\"Nhập số nguyên dương n = \"));\n",
        "print (\"Tất cả các số nguyên tố nhỏ hơn\", n, \"là:\");\n",
        "sb = \"\";\n",
        "if (n >= 2):\n",
        "    sb = sb + \"2\" + \" \";\n",
        "for i in range (3, n+1):\n",
        "    if (isPrimeNumber(i)):\n",
        "        sb = sb + str(i) + \" \";\n",
        "    i = i + 2;\n",
        "print(sb);\n"
      ],
      "execution_count": null,
      "outputs": []
    },
    {
      "cell_type": "code",
      "metadata": {
        "id": "doFiJFZcVMrQ"
      },
      "source": [
        "#4\n",
        "def fibonacci(n):\n",
        "    if (n < 0):\n",
        "        return -1;\n",
        "    elif (n == 0 or n == 1):\n",
        "        return n;\n",
        "    else:\n",
        "        return fibonacci(n - 1) + fibonacci(n - 2);\n",
        " \n",
        "print(\"10 số đầu tiên của dãy số fibonacci: \");\n",
        "sb = \"\";\n",
        "for i in range(0, 10):\n",
        "    sb = sb + str(fibonacci(i)) + \", \";\n",
        "print(sb)"
      ],
      "execution_count": null,
      "outputs": []
    },
    {
      "cell_type": "code",
      "metadata": {
        "id": "wUeTODitT4Lj"
      },
      "source": [
        "#5\n",
        "import math\n",
        "\n",
        "def isPrimeNumber(n):\n",
        "    if (n < 2):\n",
        "        return False;\n",
        "     squareRoot = int(math.sqrt(n));\n",
        "    for i in range(2, squareRoot + 1):\n",
        "        if (n % i == 0):\n",
        "            return False;\n",
        "    return True;\n",
        " \n",
        "n = int(input(\"Nhập số nguyên dương n = \"));\n",
        "print (n, \"Số nguyên tố đầu tiên là:\");\n",
        "dem = 0; \n",
        "i = 2;   \n",
        "sb = \"\";\n",
        "while (dem < n):\n",
        "    if (isPrimeNumber(i)):\n",
        "        sb = sb + str(i) + \" \";\n",
        "        dem = dem + 1;\n",
        "    i = i + 1;\n",
        "print(sb);"
      ],
      "execution_count": null,
      "outputs": []
    },
    {
      "cell_type": "code",
      "metadata": {
        "id": "Jinv5uZLUTQS"
      },
      "source": [
        "#6\n",
        "import math\n",
        "def isPrimeNumber(n):\n",
        "    if (n < 2):\n",
        "        return False;\n",
        "     squareRoot = int(math.sqrt(n));\n",
        "    for i in range(2, squareRoot + 1):\n",
        "        if (n % i == 0):\n",
        "            return False;\n",
        "    return True;\n",
        " \n",
        "print (\"Liệt kê tất cả số nguyên tố có 5 chữ số:\");\n",
        "dem = 0;\n",
        "for i in range(10001, 99999):\n",
        "    if (isPrimeNumber(i)):\n",
        "        print(i);\n",
        "        dem = dem + 1;\n",
        "print(\"Tổng các số nguyên tố có 5 chữ số là:\", dem);"
      ],
      "execution_count": null,
      "outputs": []
    },
    {
      "cell_type": "code",
      "metadata": {
        "id": "jNNItmj1Ui98"
      },
      "source": [
        "#7\n",
        "def totalDigitsOfNumber(n):\n",
        "    total = 0;\n",
        "    while (n > 0):\n",
        "        total = total + n % 10;\n",
        "        n = int(n / 10);\n",
        "    return total;\n",
        " \n",
        "n = int(input(\"Nhập số nguyên dương n = \"));\n",
        "print(\"Tổng các chữ số của\", n , \"là\", totalDigitsOfNumber(n));\n"
      ],
      "execution_count": null,
      "outputs": []
    },
    {
      "cell_type": "code",
      "metadata": {
        "id": "GeFikY-LUrhj"
      },
      "source": [
        "#8\n",
        "import math\n",
        "def fibonacci(n):\n",
        "    if (n < 0):\n",
        "        return -1;\n",
        "    elif (n == 0 or n == 1):\n",
        "        return n;\n",
        "    else:\n",
        "        return fibonacci(n - 1) + fibonacci(n - 2);\n",
        " \n",
        "\n",
        "def isPrimeNumber(n):\n",
        "    # so nguyen n < 2 khong phai la so nguyen to\n",
        "    if (n < 2):\n",
        "        return False;\n",
        " \n",
        "    # check so nguyen to khi n >= 2\n",
        "    squareRoot = int(math.sqrt(n));\n",
        "    for i in range(2, squareRoot + 1):\n",
        "        if (n % i == 0):\n",
        "            return False;\n",
        "    return True;\n",
        " "
      ],
      "execution_count": null,
      "outputs": []
    }
  ]
}