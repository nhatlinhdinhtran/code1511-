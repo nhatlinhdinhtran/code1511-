{
  "nbformat": 4,
  "nbformat_minor": 0,
  "metadata": {
    "colab": {
      "name": "BT3.ipynb",
      "provenance": [],
      "collapsed_sections": [],
      "authorship_tag": "ABX9TyOQ7V+1kxf38lvFktD1TudL",
      "include_colab_link": true
    },
    "kernelspec": {
      "name": "python3",
      "display_name": "Python 3"
    },
    "language_info": {
      "name": "python"
    }
  },
  "cells": [
    {
      "cell_type": "markdown",
      "metadata": {
        "id": "view-in-github",
        "colab_type": "text"
      },
      "source": [
        "<a href=\"https://colab.research.google.com/github/nhatlinhdinhtran/code1511-/blob/main/BT3.ipynb\" target=\"_parent\"><img src=\"https://colab.research.google.com/assets/colab-badge.svg\" alt=\"Open In Colab\"/></a>"
      ]
    },
    {
      "cell_type": "code",
      "metadata": {
        "colab": {
          "base_uri": "https://localhost:8080/"
        },
        "id": "LpusGgPR9axB",
        "outputId": "47daf845-4bc8-4d97-ec54-1c4d62659b20"
      },
      "source": [
        "#Bai 1\n",
        "i = 1\n",
        "while i <= 10:\n",
        "    print(i)\n",
        "    i += 1"
      ],
      "execution_count": 1,
      "outputs": [
        {
          "output_type": "stream",
          "name": "stdout",
          "text": [
            "1\n",
            "2\n",
            "3\n",
            "4\n",
            "5\n",
            "6\n",
            "7\n",
            "8\n",
            "9\n",
            "10\n"
          ]
        }
      ]
    },
    {
      "cell_type": "code",
      "metadata": {
        "id": "uN6LWaO590Zo"
      },
      "source": [
        "#Bai 2\n",
        " x = 5\n",
        "for i in range(0, x + 1):\n",
        "    for j in range(x - i, 0, -1):\n",
        "        print(j, end=' ')\n",
        "    print()"
      ],
      "execution_count": null,
      "outputs": []
    },
    {
      "cell_type": "code",
      "metadata": {
        "colab": {
          "base_uri": "https://localhost:8080/"
        },
        "id": "-DJ8xAUU-a-t",
        "outputId": "cfa454bf-09df-48da-b82d-72d85a04eb15"
      },
      "source": [
        "#Bai 3\n",
        "tong = 0\n",
        "n = 1\n",
        "\n",
        "print(\"Nhap n: \")\n",
        "n = int(input())\n",
        " \n",
        "for i in range(0, n+1):\n",
        "    tong += i\n",
        " \n",
        "print (\"Tổng là: \", tong)"
      ],
      "execution_count": 9,
      "outputs": [
        {
          "output_type": "stream",
          "name": "stdout",
          "text": [
            "Nhap n: \n",
            "5\n",
            "Tổng là:  15\n"
          ]
        }
      ]
    },
    {
      "cell_type": "code",
      "metadata": {
        "colab": {
          "base_uri": "https://localhost:8080/"
        },
        "id": "vH7FpXX1_wC1",
        "outputId": "1b12f84b-6764-40b0-e888-0a9075d36467"
      },
      "source": [
        "#Bai 4\n",
        "n = int(input(\"Nhap so: \"))\n",
        "for i in range(1,11):\n",
        "   print(n,'x',i,'=',n*i)  "
      ],
      "execution_count": 10,
      "outputs": [
        {
          "output_type": "stream",
          "name": "stdout",
          "text": [
            "Nhap so: 2\n",
            "2 x 1 = 2\n",
            "2 x 2 = 4\n",
            "2 x 3 = 6\n",
            "2 x 4 = 8\n",
            "2 x 5 = 10\n",
            "2 x 6 = 12\n",
            "2 x 7 = 14\n",
            "2 x 8 = 16\n",
            "2 x 9 = 18\n",
            "2 x 10 = 20\n"
          ]
        }
      ]
    },
    {
      "cell_type": "code",
      "metadata": {
        "colab": {
          "base_uri": "https://localhost:8080/"
        },
        "id": "Zud4ESAnAEIy",
        "outputId": "643b5167-5b3e-44e4-f6a0-b6dcc034e7b7"
      },
      "source": [
        "#Bai 5\n",
        "numbers = [1, 2, 3, 4, 5, 6, 7]\n",
        "\n",
        "for item in numbers:\n",
        "    if item > 7:\n",
        "        break\n",
        "    elif item > 1:\n",
        "        continue\n",
        "\n",
        "    elif item % 5 == 0:\n",
        "        print(item)"
      ],
      "execution_count": 26,
      "outputs": [
        {
          "output_type": "stream",
          "name": "stdout",
          "text": [
            "75\n",
            "150\n",
            "145\n"
          ]
        }
      ]
    },
    {
      "cell_type": "code",
      "metadata": {
        "colab": {
          "base_uri": "https://localhost:8080/"
        },
        "id": "KDW2SktFB2jx",
        "outputId": "235a9121-d2a2-48d7-eb3d-9d6cfbd5055d"
      },
      "source": [
        "#Bai 6\n",
        "def totalDigitsOfNumber(n):\n",
        "    total = 0;\n",
        "    while (n > 0):\n",
        "        total = total + n % 10;\n",
        "        n = int(n / 10);\n",
        "    return total;\n",
        " \n",
        "n = int(input(\"Nhập số nguyên dương n = \"));\n",
        "print(\"Tổng các chữ số của\", n , \"là\", totalDigitsOfNumber(n));\n"
      ],
      "execution_count": 28,
      "outputs": [
        {
          "output_type": "stream",
          "name": "stdout",
          "text": [
            "Nhập số nguyên dương n = 462346\n",
            "Tổng các chữ số của 462346 là 25\n"
          ]
        }
      ]
    },
    {
      "cell_type": "code",
      "metadata": {
        "colab": {
          "base_uri": "https://localhost:8080/"
        },
        "id": "61Ya2g3UCCe6",
        "outputId": "076196a0-dab9-4a1c-9b84-24b4d84ddcf8"
      },
      "source": [
        "#Bai 7\n",
        "list1 = [1, 2, 3, 4, 5]\n",
        "list2 = reversed(list1)\n",
        "for i in list2:\n",
        "    print(i)"
      ],
      "execution_count": 30,
      "outputs": [
        {
          "output_type": "stream",
          "name": "stdout",
          "text": [
            "5\n",
            "4\n",
            "3\n",
            "2\n",
            "1\n"
          ]
        }
      ]
    },
    {
      "cell_type": "code",
      "metadata": {
        "colab": {
          "base_uri": "https://localhost:8080/"
        },
        "id": "Jik1NdxMCd6Y",
        "outputId": "02efeccc-6af5-4008-9556-5698e08fe8c7"
      },
      "source": [
        "#Bai 8\n",
        "for i in range(-10,0):\n",
        "  print(i)"
      ],
      "execution_count": 34,
      "outputs": [
        {
          "output_type": "stream",
          "name": "stdout",
          "text": [
            "-10\n",
            "-9\n",
            "-8\n",
            "-7\n",
            "-6\n",
            "-5\n",
            "-4\n",
            "-3\n",
            "-2\n",
            "-1\n"
          ]
        }
      ]
    },
    {
      "cell_type": "code",
      "metadata": {
        "colab": {
          "base_uri": "https://localhost:8080/"
        },
        "id": "IblIL-LuDLnv",
        "outputId": "8043ba9c-df43-415e-9dcf-3d5f2f7accf5"
      },
      "source": [
        "#Bai 9 \n",
        "for i in range(1,10):\n",
        "    print(i)\n",
        "else:\n",
        "    print(\"Done!\")"
      ],
      "execution_count": 37,
      "outputs": [
        {
          "output_type": "stream",
          "name": "stdout",
          "text": [
            "1\n",
            "2\n",
            "3\n",
            "4\n",
            "5\n",
            "6\n",
            "7\n",
            "8\n",
            "9\n",
            "Done!\n"
          ]
        }
      ]
    },
    {
      "cell_type": "code",
      "metadata": {
        "colab": {
          "base_uri": "https://localhost:8080/"
        },
        "id": "vP1nCZOlDlKy",
        "outputId": "72750d35-38d6-4953-fbb5-dd524a977128"
      },
      "source": [
        "#Bai 10 \n",
        "start = 1\n",
        "end = 100\n",
        "print(\"Cac so nguyen to trong khoang nay la : \", start, \"and\", end, \"are:\")\n",
        "for num in range(start, end + 1):\n",
        "    if num > 1:\n",
        "        for i in range(2, num):\n",
        "            if (num % i) == 0:\n",
        "                break\n",
        "        else:\n",
        "            print(num)"
      ],
      "execution_count": 38,
      "outputs": [
        {
          "output_type": "stream",
          "name": "stdout",
          "text": [
            "Cac so nguyen to trong khoang nay la :  1 and 100 are:\n",
            "2\n",
            "3\n",
            "5\n",
            "7\n",
            "11\n",
            "13\n",
            "17\n",
            "19\n",
            "23\n",
            "29\n",
            "31\n",
            "37\n",
            "41\n",
            "43\n",
            "47\n",
            "53\n",
            "59\n",
            "61\n",
            "67\n",
            "71\n",
            "73\n",
            "79\n",
            "83\n",
            "89\n",
            "97\n"
          ]
        }
      ]
    },
    {
      "cell_type": "code",
      "metadata": {
        "id": "7brdGXoSEGZD"
      },
      "source": [
        "#Bai 11\n",
        "a=int(input(\"Nhap so : \"))\n",
        "f=0\n",
        "s=1\n",
        "if a<=0:\n",
        "    print(\"The requested series is\",f)\n",
        "else:\n",
        "    print(f,s,end=\" \")\n",
        "    for x in range(2,a):\n",
        "        next=f+s                           \n",
        "        print(next,end=\" \")\n",
        "        f=s\n",
        "        s=next"
      ],
      "execution_count": null,
      "outputs": []
    },
    {
      "cell_type": "code",
      "metadata": {
        "colab": {
          "base_uri": "https://localhost:8080/"
        },
        "id": "98o5rOmMFR4Q",
        "outputId": "cbb229af-15d2-4431-e4f0-f3f4036f6b64"
      },
      "source": [
        "#Bai 12\n",
        "n = int(input(\"Nhập số cần tính giai thừa: \"))\n",
        "\n",
        "def giaiThua(n):\n",
        "    if n == 0:\n",
        "        return 1\n",
        "    return n * giaiThua(n - 1)\n",
        "\n",
        "print (giaiThua(n))"
      ],
      "execution_count": 41,
      "outputs": [
        {
          "output_type": "stream",
          "name": "stdout",
          "text": [
            "Nhập số cần tính giai thừa: 3\n",
            "6\n"
          ]
        }
      ]
    },
    {
      "cell_type": "code",
      "metadata": {
        "colab": {
          "base_uri": "https://localhost:8080/"
        },
        "id": "K6G_exvkFWOp",
        "outputId": "b285cab7-443d-4eee-c63a-5dc12db3f5af"
      },
      "source": [
        "#Bai 13\n",
        "print(\"Nhập vào số N cần đảo ngược: \")\n",
        " \n",
        "n = int(input())\n",
        "\n",
        "while (n != 0):\n",
        "    print(n % 10, end=\"\")\n",
        "    n = n // 10  "
      ],
      "execution_count": 43,
      "outputs": [
        {
          "output_type": "stream",
          "name": "stdout",
          "text": [
            "Nhập vào số N cần đảo ngược: \n",
            "446\n",
            "644"
          ]
        }
      ]
    },
    {
      "cell_type": "code",
      "metadata": {
        "colab": {
          "base_uri": "https://localhost:8080/"
        },
        "id": "XeDM9nikFzz7",
        "outputId": "9a755630-df3c-4455-f57e-1a32b6743847"
      },
      "source": [
        "#Bai 14 \n",
        "list1 = [1, 2, 3, 4, 5, 6, 7, 8, 9]\n",
        "for i in list1[1::2]:\n",
        "    print(i, end=\" \")"
      ],
      "execution_count": 45,
      "outputs": [
        {
          "output_type": "stream",
          "name": "stdout",
          "text": [
            "2 4 6 8 "
          ]
        }
      ]
    },
    {
      "cell_type": "code",
      "metadata": {
        "colab": {
          "base_uri": "https://localhost:8080/"
        },
        "id": "HcjBX58XGMZ6",
        "outputId": "c40435a6-947d-4360-f9a6-a6ad4da71c1c"
      },
      "source": [
        "#Bai 15\n",
        "x = int(input(\"nhap mot so: \"))\n",
        "for i in range(1, x + 1):\n",
        "    print(\" so:\", i, \" khoi lap phuong la\", (i * i * i))"
      ],
      "execution_count": 46,
      "outputs": [
        {
          "output_type": "stream",
          "name": "stdout",
          "text": [
            "nhap mot so: 3\n",
            " so: 1  khoi lap phuong la 1\n",
            " so: 2  khoi lap phuong la 8\n",
            " so: 3  khoi lap phuong la 27\n"
          ]
        }
      ]
    }
  ]
}