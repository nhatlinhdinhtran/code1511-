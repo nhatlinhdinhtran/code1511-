{
  "nbformat": 4,
  "nbformat_minor": 0,
  "metadata": {
    "colab": {
      "name": "bài3.ipynb",
      "provenance": [],
      "authorship_tag": "ABX9TyNJXf4Az6Gu8cQe+uEXaQLV",
      "include_colab_link": true
    },
    "kernelspec": {
      "name": "python3",
      "display_name": "Python 3"
    },
    "language_info": {
      "name": "python"
    }
  },
  "cells": [
    {
      "cell_type": "markdown",
      "metadata": {
        "id": "view-in-github",
        "colab_type": "text"
      },
      "source": [
        "<a href=\"https://colab.research.google.com/github/nhatlinhdinhtran/code1511-/blob/main/b%C3%A0i3.ipynb\" target=\"_parent\"><img src=\"https://colab.research.google.com/assets/colab-badge.svg\" alt=\"Open In Colab\"/></a>"
      ]
    },
    {
      "cell_type": "code",
      "metadata": {
        "colab": {
          "base_uri": "https://localhost:8080/"
        },
        "id": "DUtJuwk9uTDf",
        "outputId": "b0085a4d-5421-470c-ad75-c890c2b704a0"
      },
      "source": [
        "#Bài1\n",
        "list1 = [0, 1]\n",
        "sum(list1)\n",
        "print(\"tong la :\",sum)"
      ],
      "execution_count": 12,
      "outputs": [
        {
          "output_type": "execute_result",
          "data": {
            "text/plain": [
              "1"
            ]
          },
          "metadata": {},
          "execution_count": 12
        }
      ]
    },
    {
      "cell_type": "code",
      "metadata": {
        "id": "1oRcICXvxIxF"
      },
      "source": [
        "#Bài 2\n",
        "list1 = [1, 2,3]\n",
        "print(math.prod(list1)) "
      ],
      "execution_count": null,
      "outputs": []
    },
    {
      "cell_type": "code",
      "metadata": {
        "colab": {
          "base_uri": "https://localhost:8080/"
        },
        "id": "nDFCvc5WxXnR",
        "outputId": "6a9e5e77-1db9-4416-c9d7-a69cbe6f918d"
      },
      "source": [
        "#Bài 3\n",
        "list1 = [1, 2,3,6,9]\n",
        "a=max(list1) \n",
        "print(\"so lon nhat la : \",a)"
      ],
      "execution_count": 23,
      "outputs": [
        {
          "output_type": "stream",
          "name": "stdout",
          "text": [
            "so lon nhat la :  <built-in function max>\n"
          ]
        }
      ]
    },
    {
      "cell_type": "code",
      "metadata": {
        "id": "z-Wh1bKKxXsM"
      },
      "source": [
        "#Bài 4\n",
        "list1 = [1, 2,3,6,9]\n",
        "min(list1)\n",
        "print('so nho nhat la :',min)"
      ],
      "execution_count": null,
      "outputs": []
    },
    {
      "cell_type": "code",
      "metadata": {
        "colab": {
          "base_uri": "https://localhost:8080/"
        },
        "id": "6POcXeJZx1IC",
        "outputId": "59d21ded-4e0e-4afa-c1d4-6a690e879762"
      },
      "source": [
        "#Bài 5\n",
        "list1 = [1, 2,3,6,9,12]\n",
        "list1.sort(reverse=True)\n",
        "print (\"List1 duoc sap xep: \", list1)\n"
      ],
      "execution_count": 21,
      "outputs": [
        {
          "output_type": "stream",
          "name": "stdout",
          "text": [
            "List1 duoc sap xep:  [12, 9, 6, 3, 2, 1]\n"
          ]
        }
      ]
    },
    {
      "cell_type": "code",
      "metadata": {
        "colab": {
          "base_uri": "https://localhost:8080/"
        },
        "id": "6FeF-PnayCcc",
        "outputId": "35ff0a55-a830-49ce-aa04-bcb826e483a9"
      },
      "source": [
        "#Bài 6\n",
        "list1.sort(reverse=False)\n",
        "print (\"List1 duoc sap xep: \", list1)\n"
      ],
      "execution_count": 22,
      "outputs": [
        {
          "output_type": "stream",
          "name": "stdout",
          "text": [
            "List1 duoc sap xep:  [1, 2, 3, 6, 9, 12]\n"
          ]
        }
      ]
    },
    {
      "cell_type": "code",
      "metadata": {
        "id": "R_LqdPFxzBJ7"
      },
      "source": [
        "#Bài 7\n",
        "list1 = [1, 2,3,6,9,12]\n",
        "len(list1)\n",
        "print(\"so phan tu trong list\",len)\n"
      ],
      "execution_count": null,
      "outputs": []
    },
    {
      "cell_type": "code",
      "metadata": {
        "colab": {
          "base_uri": "https://localhost:8080/",
          "height": 197
        },
        "id": "aqa6gbfIzj9V",
        "outputId": "0664b92f-c002-4030-ba60-c03bb6456b21"
      },
      "source": [
        "#Bài 8\n",
        "list1 = [1, 2,3,6,9,12]\n",
        "\n",
        "print(\"so ngau nhien: \",random.choice(list1))"
      ],
      "execution_count": 26,
      "outputs": [
        {
          "output_type": "error",
          "ename": "NameError",
          "evalue": "ignored",
          "traceback": [
            "\u001b[0;31m---------------------------------------------------------------------------\u001b[0m",
            "\u001b[0;31mNameError\u001b[0m                                 Traceback (most recent call last)",
            "\u001b[0;32m<ipython-input-26-7b09de874075>\u001b[0m in \u001b[0;36m<module>\u001b[0;34m()\u001b[0m\n\u001b[1;32m      2\u001b[0m \u001b[0mlist1\u001b[0m \u001b[0;34m=\u001b[0m \u001b[0;34m[\u001b[0m\u001b[0;36m1\u001b[0m\u001b[0;34m,\u001b[0m \u001b[0;36m2\u001b[0m\u001b[0;34m,\u001b[0m\u001b[0;36m3\u001b[0m\u001b[0;34m,\u001b[0m\u001b[0;36m6\u001b[0m\u001b[0;34m,\u001b[0m\u001b[0;36m9\u001b[0m\u001b[0;34m,\u001b[0m\u001b[0;36m12\u001b[0m\u001b[0;34m]\u001b[0m\u001b[0;34m\u001b[0m\u001b[0;34m\u001b[0m\u001b[0m\n\u001b[1;32m      3\u001b[0m \u001b[0;34m\u001b[0m\u001b[0m\n\u001b[0;32m----> 4\u001b[0;31m \u001b[0mprint\u001b[0m\u001b[0;34m(\u001b[0m\u001b[0mrandom\u001b[0m\u001b[0;34m.\u001b[0m\u001b[0mchoice\u001b[0m\u001b[0;34m(\u001b[0m\u001b[0mlist1\u001b[0m\u001b[0;34m)\u001b[0m \u001b[0;34m)\u001b[0m\u001b[0;34m\u001b[0m\u001b[0;34m\u001b[0m\u001b[0m\n\u001b[0m",
            "\u001b[0;31mNameError\u001b[0m: name 'random' is not defined"
          ]
        }
      ]
    },
    {
      "cell_type": "code",
      "metadata": {
        "colab": {
          "base_uri": "https://localhost:8080/"
        },
        "id": "4SJVvlwv0jrF",
        "outputId": "0ae46cf6-e64e-433a-de95-3582aa2af234"
      },
      "source": [
        "#Bài 9\n",
        "list1 = [1, 2,3,6,9,12]\n",
        "list2 = [0,4,7]\n",
        "print([list1]  + [list2])"
      ],
      "execution_count": 28,
      "outputs": [
        {
          "output_type": "stream",
          "name": "stdout",
          "text": [
            "[[1, 2, 3, 6, 9, 12], [0, 4, 7]]\n"
          ]
        }
      ]
    }
  ]
}