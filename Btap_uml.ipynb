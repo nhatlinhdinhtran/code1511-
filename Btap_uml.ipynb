{
  "nbformat": 4,
  "nbformat_minor": 0,
  "metadata": {
    "colab": {
      "name": "Btap uml.ipynb",
      "provenance": [],
      "authorship_tag": "ABX9TyPZbxbymfNqc8kvtRk6N2W8",
      "include_colab_link": true
    },
    "kernelspec": {
      "name": "python3",
      "display_name": "Python 3"
    },
    "language_info": {
      "name": "python"
    }
  },
  "cells": [
    {
      "cell_type": "markdown",
      "metadata": {
        "id": "view-in-github",
        "colab_type": "text"
      },
      "source": [
        "<a href=\"https://colab.research.google.com/github/nhatlinhdinhtran/code1511-/blob/main/Btap_uml.ipynb\" target=\"_parent\"><img src=\"https://colab.research.google.com/assets/colab-badge.svg\" alt=\"Open In Colab\"/></a>"
      ]
    },
    {
      "cell_type": "code",
      "metadata": {
        "id": "t-xIjqmBk6-E"
      },
      "source": [
        "class XeMay:\n",
        "    phankhoi: int\n",
        "    tenxe: str\n",
        "    xuatxu: str\n",
        "\n",
        "    def __init__(self, pk, tx,xx):\n",
        "        self.phankhoi = name\n",
        "        self.tenxe = gender\n",
        "        self.xuatxu = id\n",
        "\n",
        "    def outputXeMay(self) -> str:\n",
        "        result = \"phan khoi: \" + self.phankhoi + \"; ten xe: \" + str(self.tenxe) + \"; xuat xu: \" + self.xuatxu \n",
        "        return result\n"
      ],
      "execution_count": 3,
      "outputs": []
    }
  ]
}