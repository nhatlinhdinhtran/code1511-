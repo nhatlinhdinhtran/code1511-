{
  "nbformat": 4,
  "nbformat_minor": 0,
  "metadata": {
    "colab": {
      "name": "Bai 1.ipynb",
      "provenance": [],
      "authorship_tag": "ABX9TyP6BTKeTruep1gnjCDt3iBd",
      "include_colab_link": true
    },
    "kernelspec": {
      "name": "python3",
      "display_name": "Python 3"
    },
    "language_info": {
      "name": "python"
    }
  },
  "cells": [
    {
      "cell_type": "markdown",
      "metadata": {
        "id": "view-in-github",
        "colab_type": "text"
      },
      "source": [
        "<a href=\"https://colab.research.google.com/github/nhatlinhdinhtran/code1511-/blob/main/Bai_1/16.ipynb\" target=\"_parent\"><img src=\"https://colab.research.google.com/assets/colab-badge.svg\" alt=\"Open In Colab\"/></a>"
      ]
    },
    {
      "cell_type": "code",
      "metadata": {
        "id": "3ZyGfMRdWvah"
      },
      "source": [
        "#Bai 1\n",
        "x = []\n"
      ],
      "execution_count": 8,
      "outputs": []
    },
    {
      "cell_type": "code",
      "metadata": {
        "colab": {
          "base_uri": "https://localhost:8080/"
        },
        "id": "ushvktW_X7et",
        "outputId": "bb304d48-acce-4f7c-abba-16a8e57934f4"
      },
      "source": [
        "#Bai 2\n",
        "x= [\"1\",\"2\",\"3\",\"4\",\"5\"]\n",
        "print(x.append(\"18\"))\n"
      ],
      "execution_count": 14,
      "outputs": [
        {
          "output_type": "stream",
          "name": "stdout",
          "text": [
            "None\n"
          ]
        }
      ]
    },
    {
      "cell_type": "code",
      "metadata": {
        "colab": {
          "base_uri": "https://localhost:8080/"
        },
        "id": "IavssEDyYkqh",
        "outputId": "93433c1c-2e27-4dac-fba3-6136cc47e31d"
      },
      "source": [
        "#Bài 3\n",
        "x = [\"1\", \"2\", \"3\",\"4\",\"5\"];\n",
        "x.append(\"Huế\");\n",
        "print(x)"
      ],
      "execution_count": 30,
      "outputs": [
        {
          "output_type": "stream",
          "name": "stdout",
          "text": [
            "['1', '2', '3', '4', '5', 'Huế']\n"
          ]
        }
      ]
    },
    {
      "cell_type": "code",
      "metadata": {
        "id": "r-CnPeK_aOw8"
      },
      "source": [
        "#Bài 4\n",
        "y= [\"12\", \"45\", \"-1\", \"-0.56\", \"abc\"]\n"
      ],
      "execution_count": 19,
      "outputs": []
    },
    {
      "cell_type": "code",
      "metadata": {
        "id": "2prA8OHlalnD"
      },
      "source": [
        "#Bài 5\n",
        "x.extend(y)"
      ],
      "execution_count": 32,
      "outputs": []
    },
    {
      "cell_type": "code",
      "metadata": {
        "id": "wGEllBD_aw6z"
      },
      "source": [
        "#Bài 6\n",
        "print(x)"
      ],
      "execution_count": null,
      "outputs": []
    },
    {
      "cell_type": "code",
      "metadata": {
        "colab": {
          "base_uri": "https://localhost:8080/"
        },
        "id": "Gf3KLYwsbxmn",
        "outputId": "b46f653c-e080-4f03-f467-13bfb91642ff"
      },
      "source": [
        "#Bài 7\n",
        "\n",
        "print(x[0])\n",
        "print(x[-1])"
      ],
      "execution_count": 28,
      "outputs": [
        {
          "output_type": "stream",
          "name": "stdout",
          "text": [
            "1\n",
            "18\n"
          ]
        }
      ]
    },
    {
      "cell_type": "code",
      "metadata": {
        "colab": {
          "base_uri": "https://localhost:8080/"
        },
        "id": "ZRGXs6ftdEII",
        "outputId": "681caf22-37c9-4962-e7ff-b79c48f8fc47"
      },
      "source": [
        "#Bài 8\n",
        "print(x[0:5],x)"
      ],
      "execution_count": 26,
      "outputs": [
        {
          "output_type": "stream",
          "name": "stdout",
          "text": [
            "['1', '2', '18'] ['1', '2', '18']\n"
          ]
        }
      ]
    },
    {
      "cell_type": "code",
      "metadata": {
        "colab": {
          "base_uri": "https://localhost:8080/"
        },
        "id": "r-0xxHK_d0ga",
        "outputId": "44a3f413-2234-42a2-8212-7e37df4ae6c5"
      },
      "source": [
        "#Bài 9\n",
        "print(x[2:-1])\n"
      ],
      "execution_count": 31,
      "outputs": [
        {
          "output_type": "stream",
          "name": "stdout",
          "text": [
            "['4', '5']\n"
          ]
        }
      ]
    }
  ]
}