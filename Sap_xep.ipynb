{
  "nbformat": 4,
  "nbformat_minor": 0,
  "metadata": {
    "colab": {
      "name": "Sap xep.ipynb",
      "provenance": [],
      "authorship_tag": "ABX9TyOX7SaGOEpauaI/f2+CqmFp",
      "include_colab_link": true
    },
    "kernelspec": {
      "name": "python3",
      "display_name": "Python 3"
    },
    "language_info": {
      "name": "python"
    }
  },
  "cells": [
    {
      "cell_type": "markdown",
      "metadata": {
        "id": "view-in-github",
        "colab_type": "text"
      },
      "source": [
        "<a href=\"https://colab.research.google.com/github/nhatlinhdinhtran/code1511-/blob/main/Sap_xep.ipynb\" target=\"_parent\"><img src=\"https://colab.research.google.com/assets/colab-badge.svg\" alt=\"Open In Colab\"/></a>"
      ]
    },
    {
      "cell_type": "code",
      "metadata": {
        "id": "nVk3N7Tg0Y5l"
      },
      "source": [
        "#Bai 1\n",
        "a = []\n",
        "for i in range(10):\n",
        "  tam = int(input())\n",
        "  a.append(tam)\n",
        "for i in range(len(a)-1):\n",
        "  for j in range(i+1, len(a)):\n",
        "    if a[i] > a[j]:\n",
        "      a[i], a[j] = a[j], a[i]\n",
        "\n",
        "print(\"Ket qua sap xep theo chieu tang dan\", a)"
      ],
      "execution_count": null,
      "outputs": []
    },
    {
      "cell_type": "code",
      "metadata": {
        "id": "sGBUw2iF0cp9"
      },
      "source": [
        "#Bai 2\n",
        "def nhap_danh_sach_so_nguyen(n):\n",
        "    l = []\n",
        "    for i in range(n):\n",
        "        l.append(int(input(\"Phan tu: \")))\n",
        "    return l\n",
        "def sap_xep_danh_sach(x):\n",
        "    for i in range(len(x)):\n",
        "        for j in range(i+1,len(x)):\n",
        "            if x[i] > x[j]:\n",
        "                x[i], x[j] = x[j], x[i]\n",
        "    return(x)\n",
        "def main():\n",
        "    n = int(input(\"So phan tu cua danh sach: \"))\n",
        "    x = nhap_danh_sach_so_nguyen(n)\n",
        "    print('Danh sach sap xep theo chieu tang dan:',sap_xep_danh_sach(x))\n",
        "if __name__ =='__main__':\n",
        "    main()"
      ],
      "execution_count": null,
      "outputs": []
    },
    {
      "cell_type": "code",
      "metadata": {
        "id": "3J1Ph3M-0fpt"
      },
      "source": [
        "#Bai 3\n",
        "def nhap_danh_sach():\n",
        "    list2=[]\n",
        "    while True:\n",
        "        n = float(input(\"nhap phan tu so thuc: \"))\n",
        "        list2.append(n)\n",
        "        print(\"ban co muon tiep tuc khong?(yes/no)\")\n",
        "        lua_chon = input(\"yes/no: \")\n",
        "        if (lua_chon == \"No\") or (lua_chon == \"no\"):\n",
        "            return list2\n",
        "            return False\n",
        "def sap_xep_danh_sach(list2):\n",
        "    for i in range(len(list2)):\n",
        "        for j in range(i + 1, len(list2)):\n",
        "            if list2[i] < list2[j]:\n",
        "                list2[i], list2[j] = list2[j], list2[i]\n",
        "    return list2\n",
        "def main():\n",
        "    list2 = nhap_danh_sach()\n",
        "    print(\"danh sach cac so thuc tren theo chieu giam dan: \",sap_xep_danh_sach(list2))\n",
        "if __name__==\"__main__\":\n",
        "    main()"
      ],
      "execution_count": null,
      "outputs": []
    },
    {
      "cell_type": "code",
      "metadata": {
        "id": "x5-0P8640pmu"
      },
      "source": [
        "#Bai 4\n",
        "def nhap_danh_sach_so_thuc():\n",
        "    l3 = []\n",
        "    while True:\n",
        "        a =float(input(\"nhap phan tu so thuc: \"))\n",
        "        l3.append(a)\n",
        "        print(\"ban co muon tiep tuc nhap khong?: \")\n",
        "        lua_chon = input(\"Y/N: \")\n",
        "        if(lua_chon == \"N\") or (lua_chon == \"n\") :\n",
        "            return l3\n",
        "            return False\n",
        "def sap_xep_danh_sach_so_thuc(x):\n",
        "    for i in range(len(x)):\n",
        "        for j in range(i + 1, len(x)):\n",
        "            if x[i] < x[j]:\n",
        "                x[i], x[j] = x[j], x[i]\n",
        "    return x\n",
        "def main():\n",
        "    x = nhap_danh_sach_so_thuc()\n",
        "    print('danh sách sau khi sắp xếp:',sap_xep_danh_sach_so_thuc(x))\n",
        "if __name__==\"__main__\":\n",
        "    main()"
      ],
      "execution_count": null,
      "outputs": []
    },
    {
      "cell_type": "code",
      "metadata": {
        "id": "J9bcnOlq0sn9"
      },
      "source": [
        "#Bai 5\n",
        "import random\n",
        "\n",
        "max_value = int(input(\"Gioi han random: \"))\n",
        "a = int(input(\"nhap so phan tu: \"))\n",
        "l4 = []\n",
        "for i in range(a):\n",
        "  l4.append(random.randint(0,max_value))\n",
        "print(\"Danh sach khi chua sap xep\",l4)\n",
        "print(\"(1) De sap xep danh sach tang dan\")\n",
        "print(\"(2) De sap xep danh sach giam dan\")\n",
        "lua_chon = int(input(\" 1 hay 2?: \"))\n",
        "if lua_chon == 1:\n",
        "  for i in range(len(l4)):\n",
        "    for j in range(i+1, len(l4)):\n",
        "      if l4[i] > l4[j]:\n",
        "        l4[i],l4[j] = l4[j], l4[i]\n",
        "  print(\"Danh sach sap xep tang dan\",l4)\n",
        "if lua_chon == 2:\n",
        "  for i in range(len(l4)):\n",
        "    for j in range(i+1, len(l4)):\n",
        "      if l4[i] < l4[j]:\n",
        "        l4[i],l4[j] = l4[j], l4[i]\n",
        "  print(\"Danh sach sap xep giam dan\",l4)"
      ],
      "execution_count": null,
      "outputs": []
    },
    {
      "cell_type": "code",
      "metadata": {
        "id": "bjRlo61C0vUs"
      },
      "source": [
        "#Bai 6\n",
        "def sinh_ngau_nhien_danh_sach_so_nguyen():\n",
        "    import random\n",
        "    l5 = []\n",
        "    for i in range(n):\n",
        "        l5.append(random.randint(0, max_value))\n",
        "    return l5\n",
        "def sap_xep_giam_dan(x):\n",
        "    for i in range(len(x)):\n",
        "        for j in range(i + 1, len(x)):\n",
        "            if x[i] < x[j]:\n",
        "                x[i], x[j] = x[j], x[i]\n",
        "    return x\n",
        "def sap_xep_tang_dan(x):\n",
        "    for i in range(len(x)):\n",
        "        for j in range(i + 1, len(x)):\n",
        "            if x[i] > x[j]:\n",
        "                x[i], x[j] = x[j], x[i]\n",
        "    return x\n",
        "def main():\n",
        "    a =int(input(\"nhap so phan tu: \"))\n",
        "    max_value=int(input(\"gian han random: \"))\n",
        "    x=sinh_ngau_nhien_danh_sach_so_nguyen()\n",
        "    print(\"danh sach duoc sap xep theo chieu tang dan: \",sap_xep_tang_dan(x))\n",
        "    print(\"danh sach duoc sap xep theo chieu giam dan: \", sap_xep_giam_dan(x))\n",
        "if __name__=='__main__':\n",
        "    main()"
      ],
      "execution_count": null,
      "outputs": []
    },
    {
      "cell_type": "code",
      "metadata": {
        "id": "LoXUAv231DiS"
      },
      "source": [
        ""
      ],
      "execution_count": null,
      "outputs": []
    }
  ]
}