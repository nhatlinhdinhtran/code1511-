{
  "nbformat": 4,
  "nbformat_minor": 0,
  "metadata": {
    "colab": {
      "name": "btap file.ipynb",
      "provenance": [],
      "authorship_tag": "ABX9TyPANlET/bewedYEN+1AKwwt",
      "include_colab_link": true
    },
    "kernelspec": {
      "name": "python3",
      "display_name": "Python 3"
    },
    "language_info": {
      "name": "python"
    }
  },
  "cells": [
    {
      "cell_type": "markdown",
      "metadata": {
        "id": "view-in-github",
        "colab_type": "text"
      },
      "source": [
        "<a href=\"https://colab.research.google.com/github/nhatlinhdinhtran/code1511-/blob/main/btap_file.ipynb\" target=\"_parent\"><img src=\"https://colab.research.google.com/assets/colab-badge.svg\" alt=\"Open In Colab\"/></a>"
      ]
    },
    {
      "cell_type": "code",
      "metadata": {
        "id": "zRALRjqD1hLc"
      },
      "source": [
        "#Bai 1 \n",
        "chuoi1 = input(\"Nhập 1 chuỗi: \")\n",
        "tentep = input(\"Nhập tên tệp: \") + \".txt\"\n",
        "with open (tentep, \"w\") as f:\n",
        "    f.write(chuoi1)"
      ],
      "execution_count": null,
      "outputs": []
    },
    {
      "cell_type": "code",
      "metadata": {
        "id": "S5ei45-I1ouk"
      },
      "source": [
        "#Bai 2\n",
        "tentep = input(\"Nhập tên tệp: \") + \".txt\"\n",
        "with open (tentep, \"r\") as f:\n",
        "    f.seek(0)\n",
        "    tmp = f.read()\n",
        "print(tmp)"
      ],
      "execution_count": null,
      "outputs": []
    },
    {
      "cell_type": "code",
      "metadata": {
        "id": "BfnvCN4p1r4t"
      },
      "source": [
        "#Bai 3\n",
        "tenfile = input(\"Nhập tên tệp: \")\n",
        "chuoi = input(\"Nhập chuỗi: \")\n",
        "f = open(tenfile, 'a',)\n",
        "f.write(chuoi)\n",
        "f.close()"
      ],
      "execution_count": null,
      "outputs": []
    },
    {
      "cell_type": "code",
      "metadata": {
        "id": "6t2xxubW1v4x"
      },
      "source": [
        "#Bai 4\n",
        "f = open(tenfile, 'r')\n",
        "a = f.read()\n",
        "print(a)\n",
        "f.close()"
      ],
      "execution_count": null,
      "outputs": []
    },
    {
      "cell_type": "code",
      "metadata": {
        "id": "QVfp2DUf1x_t"
      },
      "source": [
        "#Bai 5\n",
        "import random\n",
        "danhsach = []\n",
        "check = 0\n",
        "for i in range(1000):\n",
        "    danhsach.append(random.randint(-1000, 1000))\n",
        "filename = input(\"Tên file: \")\n",
        "print(len(danhsach))\n",
        "for i in danhsach:\n",
        "    if check < 9:\n",
        "        f = open(filename, 'a')\n",
        "        chuoikytu = str(i)+','\n",
        "        f.write(chuoikytu)\n",
        "        f.close()\n",
        "        check +=1\n",
        "    else:\n",
        "        f = open(filename, 'a')\n",
        "        f.write(str(i)+\"\\n\")\n",
        "        f.close()\n",
        "        check = 0\n",
        "f = open(filename, 'r')\n",
        "a = f.readlines()\n",
        "for i in a:\n",
        "    print(i.replace(\",\", \"    \"))\n",
        "f.close()"
      ],
      "execution_count": null,
      "outputs": []
    }
  ]
}