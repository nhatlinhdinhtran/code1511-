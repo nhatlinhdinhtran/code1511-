{
  "nbformat": 4,
  "nbformat_minor": 0,
  "metadata": {
    "colab": {
      "name": "Tim kiem.ipynb",
      "provenance": [],
      "authorship_tag": "ABX9TyOKj3eDS0Y772vBzyw3Srto",
      "include_colab_link": true
    },
    "kernelspec": {
      "name": "python3",
      "display_name": "Python 3"
    },
    "language_info": {
      "name": "python"
    }
  },
  "cells": [
    {
      "cell_type": "markdown",
      "metadata": {
        "id": "view-in-github",
        "colab_type": "text"
      },
      "source": [
        "<a href=\"https://colab.research.google.com/github/nhatlinhdinhtran/code1511-/blob/main/Tim_kiem.ipynb\" target=\"_parent\"><img src=\"https://colab.research.google.com/assets/colab-badge.svg\" alt=\"Open In Colab\"/></a>"
      ]
    },
    {
      "cell_type": "code",
      "metadata": {
        "id": "uPZbq31Oy8AB"
      },
      "source": [
        "#Bai 1\n",
        "import random\n",
        "\n",
        "n=int(input(\"So phan tu cua danh sach : \"))\n",
        "a=int(input(\"Bat dau: \"))\n",
        "b=int(input(\"Ket thuc: \"))\n",
        "l=[]\n",
        "for i in range(n):\n",
        "    l.append(random.randint(a,b))\n",
        "print(\"Danh sach: \",l)\n",
        "x = int(input(\"Gia tri can tim: \"))\n",
        "for i in range(len(l)):\n",
        "    if l[i] == x:\n",
        "        print(\"Vi tri cua x la: \",i)\n",
        "        break\n",
        "else:\n",
        "    print(\"Khong tim thay\")"
      ],
      "execution_count": null,
      "outputs": []
    },
    {
      "cell_type": "code",
      "metadata": {
        "id": "fjkdgTsazO2L"
      },
      "source": [
        "#Bai 2\n",
        "import random\n",
        "n=int(input(\"So phan tu cua danh sach : \"))\n",
        "a=int(input(\"Bat dau: \"))\n",
        "b=int(input(\"Ket thuc: \"))\n",
        "l=[]\n",
        "for i in range(n):\n",
        "    l.append(random.randint(a,b))\n",
        "print(\"Danh sach: \",l)\n",
        "x = int(input(\"Gia tri can tim: \"))\n",
        "count = 0\n",
        "for i in range(len(l)):\n",
        "    if l[i] == x:\n",
        "        print(\"Vi tri cua x la: \",i)\n",
        "        print(\"So lan lap: \",count)\n",
        "        break\n",
        "    count += 1\n",
        "else:\n",
        "    print(\"Khong tim thay x\")"
      ],
      "execution_count": null,
      "outputs": []
    },
    {
      "cell_type": "code",
      "metadata": {
        "id": "henC3rZXzdlK"
      },
      "source": [
        "#Bai 3\n",
        "import random\n",
        "n=int(input(\"So phan tu cua danh sach : \"))\n",
        "a=int(input(\"Bat dau: \"))\n",
        "b=int(input(\"Ket thuc: \"))\n",
        "l=[]\n",
        "for i in range(n):\n",
        "    l.append(random.randint(a,b))\n",
        "print(\"Danh sach: \",l)\n",
        "x = int(input(\"Gia tri can tim: \"))\n",
        "for i in range(len(l)):\n",
        "    for j in range(i + 1, len(l)):\n",
        "        if l[i] > l[j]:\n",
        "            l[i], l[j] = l[j], l[i]\n",
        "print(\"Danh sap sap xep theo chieu tang dan\",l)\n",
        "count = 0\n",
        "for i in range(len(l)):\n",
        "    if l[i] == x:\n",
        "        print(\"Vi tri cua x\",i)\n",
        "        print(\"So lan lap\",count)\n",
        "        break\n",
        "    count += 1\n",
        "else:\n",
        "    print(\"Khong tim thay x\")"
      ],
      "execution_count": null,
      "outputs": []
    },
    {
      "cell_type": "code",
      "metadata": {
        "id": "sqy6aMdUzqyf"
      },
      "source": [
        "#Bai 4\n",
        "import random\n",
        "n=int(input(\"So phan tu cua danh sach: \"))\n",
        "a=int(input(\"Bat dau: \"))\n",
        "b=int(input(\"Ket thuc: \"))\n",
        "l=[]\n",
        "for i in range(n):\n",
        "    l.append(random.randint(a,b))\n",
        "print(\"Danh sach\",l)\n",
        "x = int(input(\"Gia tri can tim: \"))\n",
        "for i in range(len(l)):\n",
        "    for j in range(i + 1, len(l)):\n",
        "        if l[i] > l[j]:\n",
        "            l[i], l[j] = l[j], l[i]\n",
        "print(\"Danh sach sau khi sap xep tang dan\",l)\n",
        "l1=[]\n",
        "l2=[]\n",
        "count = 0\n",
        "for i in range(len(l)):\n",
        "    if l[i] == x:\n",
        "        l1.append(i)\n",
        "        l2.append(count)\n",
        "    count += 1\n",
        "if (len(l1) > 0):\n",
        "    print(\"Vi tri cua x: \",l1)\n",
        "    print(\"So lan lap: \", l2)\n",
        "else:\n",
        "    print(\"Khong tim thay x\")"
      ],
      "execution_count": null,
      "outputs": []
    }
  ]
}