{
  "nbformat": 4,
  "nbformat_minor": 0,
  "metadata": {
    "colab": {
      "name": "btap .ipynb",
      "provenance": [],
      "authorship_tag": "ABX9TyO7Aoj3VDylxhw6VlDIITxr",
      "include_colab_link": true
    },
    "kernelspec": {
      "name": "python3",
      "display_name": "Python 3"
    },
    "language_info": {
      "name": "python"
    }
  },
  "cells": [
    {
      "cell_type": "markdown",
      "metadata": {
        "id": "view-in-github",
        "colab_type": "text"
      },
      "source": [
        "<a href=\"https://colab.research.google.com/github/nhatlinhdinhtran/code1511-/blob/main/btap_.ipynb\" target=\"_parent\"><img src=\"https://colab.research.google.com/assets/colab-badge.svg\" alt=\"Open In Colab\"/></a>"
      ]
    },
    {
      "cell_type": "code",
      "metadata": {
        "id": "0MTz9ZOf5-L4"
      },
      "source": [
        "class Person:\n",
        "    name: str\n",
        "    gender: str\n",
        "    phone: str\n",
        "    \n",
        "\n",
        "    def __init__(self, ten, gd, sdt) -> None:\n",
        "        super().__init__()\n",
        "        self.name= ten\n",
        "        self.gender = gd\n",
        "        self.phone = sdt\n",
        "        \n",
        "\n",
        "    def outputPerson(self) -> str:\n",
        "        result = \"Name: \" + str(self.name) + \"\\tGender: \" + str(self.gender) + \"\\tphone: \" + self.phone \n",
        "        return result\n",
        "\n",
        "class Student(Persom):\n",
        "    studentID: bool\n",
        "    classz: bool\n",
        "    \n",
        "\n",
        "    def __init__(self, studentID,classz) -> None:\n",
        "        Person.__init__(self, ten, gd, sdt)\n",
        "        self.studentID = studenID\n",
        "        self.classz = classz\n",
        "        \n",
        "\n",
        "    def outputStudent(self) -> str:\n",
        "        result = self.outputPerson() + \"\\n\\tstudentID: \" + str(self.studentID) + \"\\tclassz: \" + str(self.classz)\n",
        "        return result\n",
        "\n",
        "class Lecturer(Person):\n",
        "    lecturerID: bool\n",
        "    yearsOfExperience: bool\n",
        "\n",
        "    def __init__(self, yearsOfExperience,lecturerID) -> None:\n",
        "        Person.__init__(self, ten,gd,sdt)\n",
        "        self.lecturerID = lecturerID\n",
        "        self.yearsOfExperience = yearsOfExperience\n",
        "\n",
        "    def outputlecturer(self) -> str:\n",
        "        result = self.outputPerson() + \"\\n\\tlecturerID: \" + str(self.lecturerID) + \"\\tyearsOfExperience: \" + str(self.yearsOfExperience)\n",
        "        return result\n",
        "\n"
      ],
      "execution_count": null,
      "outputs": []
    }
  ]
}